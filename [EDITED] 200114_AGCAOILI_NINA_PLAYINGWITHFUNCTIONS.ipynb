{
 "cells": [
  {
   "cell_type": "code",
   "execution_count": 290,
   "id": "058176a1",
   "metadata": {},
   "outputs": [
    {
     "data": {
      "text/plain": [
       "3628800"
      ]
     },
     "execution_count": 290,
     "metadata": {},
     "output_type": "execute_result"
    }
   ],
   "source": [
    "#PROBLEM 1: Factorial \n",
    "# The factorial of a number is the product of that number and all the numbers below it. For example, 5 factorial (denoted 5! in math) is 5 4 3 2 1, which is 120.\n",
    "\n",
    "#Write a function called problem_1 that takes one positional argument number. The function should return the factorial of number as an integer.\n",
    "\n",
    "#Example input/output:\n",
    "#problem_1(5) => 120\n",
    "#problem_1(10) => 3628800\n",
    "\n",
    "#factorial = number * n-1, ... until number is 1\n",
    "#multiply n by n-1 then \"reset\" n? until n=1\n",
    "\n",
    "def problem_1(number):\n",
    "    factorial = 1\n",
    "    while(number>=1):\n",
    "        factorial = factorial*number\n",
    "        #factorial becomes the number (10 for ex), then number-1 so it becomes factorial (which is 10) times 9 (n-1), until n=1)\n",
    "        number-=1\n",
    "    \n",
    "    return factorial\n",
    "\n",
    "problem_1(10)"
   ]
  },
  {
   "cell_type": "code",
   "execution_count": 141,
   "id": "cff5d495",
   "metadata": {},
   "outputs": [
    {
     "name": "stdout",
     "output_type": "stream",
     "text": [
      "Enter guess: hello\n",
      "Enter guess: hello\n",
      "Enter guess: hello\n"
     ]
    },
    {
     "data": {
      "text/plain": [
       "0"
      ]
     },
     "execution_count": 141,
     "metadata": {},
     "output_type": "execute_result"
    }
   ],
   "source": [
    "#PROBLEM 2: Guessing Game \n",
    "#enter passphrase with input()\n",
    "#if correct return 1\n",
    "#if wrong ask again \n",
    "#3 trials, then return 0 \n",
    "\n",
    "\n",
    "def problem_2(passphrase):\n",
    "    trials = 3\n",
    "    while(trials>0):\n",
    "        \n",
    "        guess = input(\"Enter guess: \")\n",
    "        if guess == passphrase:\n",
    "            return 1\n",
    "            break\n",
    "        else:\n",
    "            trials = trials-1\n",
    "            continue \n",
    "        \n",
    "    return 0\n",
    "problem_2(\"hi\")"
   ]
  },
  {
   "cell_type": "code",
   "execution_count": 1,
   "id": "73096bce",
   "metadata": {},
   "outputs": [
    {
     "data": {
      "text/plain": [
       "-17.92"
      ]
     },
     "execution_count": 1,
     "metadata": {},
     "output_type": "execute_result"
    }
   ],
   "source": [
    "#convert temp (represented in original_format) to new_format\n",
    "#celsius, fahrenheit, kelvin\n",
    "\n",
    "def problem_3(temp,original_format,new_format):\n",
    "    #CELSIUS TO FAHRENHEIT\n",
    "    if original_format == \"Celsius\" and new_format == \"Fahrenheit\":\n",
    "        converted_temp=1.8*temp+32\n",
    "        return converted_temp\n",
    "    #CELSIUS TO KELVIN\n",
    "    elif original_format==\"Celsius\" and new_format==\"Kelvin\":\n",
    "        converted_temp=temp+273.15\n",
    "        return converted_temp\n",
    "    elif original_format==\"Kelvin\" and new_format==\"Celsius\":\n",
    "        converted_temp=temp-273.15\n",
    "        return converted_temp\n",
    "    elif original_format==\"Kelvin\" and new_format==\"Fahrenheit\":\n",
    "        converted_temp=1.8*(temp-273.15)+32\n",
    "        return converted_temp\n",
    "    elif original_format==\"Fahrenheit\" and new_format==\"Celsius\":\n",
    "        converted_temp=(temp-32)*0.56\n",
    "        return converted_temp\n",
    "    else:\n",
    "        converted_temp=(temp-32)*0.56+273.15\n",
    "        return converted_temp\n",
    "        \n",
    "problem_3(0.0,\"Fahrenheit\",\"Celsius\")"
   ]
  },
  {
   "cell_type": "code",
   "execution_count": 17,
   "id": "61013354",
   "metadata": {},
   "outputs": [
    {
     "data": {
      "text/plain": [
       "'1P:10/25C:0/10C:0/5C:1/1C:1'"
      ]
     },
     "execution_count": 17,
     "metadata": {},
     "output_type": "execute_result"
    }
   ],
   "source": [
    "#PROBLEM 4: Exact Change \n",
    "#display amount of each type of coin to give to the customer\n",
    "#positional argument: amount (in centavos)\n",
    "\n",
    "def problem_4(amount):\n",
    "    one_peso =int((amount-(amount%100))/100)\n",
    "    twenty_five = int(((amount-(one_peso*100))-(amount-(one_peso*100))%25)/25)\n",
    "    ten=int((amount-(((amount-(one_peso*100))-(amount-(one_peso*100))%25)+(amount-(amount%100))))/10)\n",
    "    five=int((amount-((one_peso*100)+(twenty_five*25)+(ten*10)))/5)\n",
    "    one=int(amount%5)\n",
    "    final_text = f\"1P:{one_peso}/25C:{twenty_five}/10C:{ten}/5C:{five}/1C:{one}\"\n",
    "    \n",
    "    return final_text\n",
    "\n",
    "problem_4(1006)"
   ]
  },
  {
   "cell_type": "code",
   "execution_count": 5,
   "id": "8b442d22",
   "metadata": {},
   "outputs": [
    {
     "data": {
      "text/plain": [
       "'hello my name is nina'"
      ]
     },
     "execution_count": 5,
     "metadata": {},
     "output_type": "execute_result"
    }
   ],
   "source": [
    "#PROBLEM 5: Invert Capitalization\n",
    "#return a string whos uppercase letters r lowercase and vv \n",
    "#leave spaces alone\n",
    "#+32 - covert to upper case, -32 to lower case\n",
    "#lower case starts at 97 upper starts at 65 \n",
    "\n",
    "def problem_5(message):\n",
    "    new_message=\"\"\n",
    "    for letter_1 in message:\n",
    "        \n",
    "        if ord(letter_1)<=90 and ord(letter_1)>=65:\n",
    "            converted_letter=chr(ord(letter_1)+32)\n",
    "            new_message=new_message+converted_letter\n",
    "            \n",
    "        elif ord(letter_1)<=122 and ord(letter_1)>=97:\n",
    "            converted_letter=chr(ord(letter_1)-32)\n",
    "            new_message=new_message+converted_letter\n",
    "            \n",
    "        else:\n",
    "            new_message=new_message+\" \"\n",
    "            \n",
    "    return new_message\n",
    "    \n",
    "    \n",
    "problem_5(\"HELLO MY NAME IS NINA\")\n",
    "    "
   ]
  },
  {
   "cell_type": "code",
   "execution_count": null,
   "id": "291d5e95",
   "metadata": {},
   "outputs": [],
   "source": [
    "\n",
    " "
   ]
  },
  {
   "cell_type": "code",
   "execution_count": null,
   "id": "7074b60f",
   "metadata": {},
   "outputs": [],
   "source": []
  },
  {
   "cell_type": "code",
   "execution_count": null,
   "id": "7ce5b9b2",
   "metadata": {},
   "outputs": [],
   "source": []
  },
  {
   "cell_type": "code",
   "execution_count": null,
   "id": "89234f5e",
   "metadata": {},
   "outputs": [],
   "source": []
  },
  {
   "cell_type": "code",
   "execution_count": null,
   "id": "d7eac271",
   "metadata": {},
   "outputs": [],
   "source": []
  }
 ],
 "metadata": {
  "kernelspec": {
   "display_name": "Python 3",
   "language": "python",
   "name": "python3"
  },
  "language_info": {
   "codemirror_mode": {
    "name": "ipython",
    "version": 3
   },
   "file_extension": ".py",
   "mimetype": "text/x-python",
   "name": "python",
   "nbconvert_exporter": "python",
   "pygments_lexer": "ipython3",
   "version": "3.8.8"
  }
 },
 "nbformat": 4,
 "nbformat_minor": 5
}
