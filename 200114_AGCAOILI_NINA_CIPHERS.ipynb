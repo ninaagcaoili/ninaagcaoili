{
 "cells": [
  {
   "cell_type": "code",
   "execution_count": 31,
   "id": "f8a172a6",
   "metadata": {},
   "outputs": [
    {
     "data": {
      "text/plain": [
       "'DWWDFN DW GDZQ'"
      ]
     },
     "execution_count": 31,
     "metadata": {},
     "output_type": "execute_result"
    }
   ],
   "source": [
    "#PROBLEM 1: Caesar Cipher\n",
    "#start with a message and choose a number \n",
    "#shift all letters to the right by the chosen number \n",
    "#ignore spaces \n",
    "\n",
    "def problem_1(message, shift):\n",
    "    \n",
    "    new_message=\"\"\n",
    "    \n",
    "    for letter in message:\n",
    "        if ord(letter)==32:\n",
    "            new_message = new_message + \" \"\n",
    "            \n",
    "        elif (ord(letter)+shift)>90:\n",
    "            shifted_unicode=ord(letter)+shift-26\n",
    "            \n",
    "            while shifted_unicode>90: \n",
    "                shifted_unicode=shifted_unicode-26\n",
    "            \n",
    "            shifted_letter=chr(shifted_unicode)\n",
    "            new_message = new_message + shifted_letter\n",
    "         \n",
    "        else:\n",
    "            shifted_letter=chr(ord(letter)+shift)\n",
    "            new_message = new_message + shifted_letter\n",
    "    \n",
    "    return new_message\n",
    "            \n",
    "problem_1(\"ATTACK AT DAWN\",3)"
   ]
  },
  {
   "cell_type": "code",
   "execution_count": 88,
   "id": "128d1cae",
   "metadata": {
    "scrolled": false
   },
   "outputs": [
    {
     "data": {
      "text/plain": [
       "'IMNNA_FTAOIGROE'"
      ]
     },
     "execution_count": 88,
     "metadata": {},
     "output_type": "execute_result"
    }
   ],
   "source": [
    "#PROBLEM 2: Scytale Cipher \n",
    "#reveal a message due to every nth letter appearing next to each other \n",
    "#message and shift \n",
    "#check if the len of the message is a multiple of the shift\n",
    "    # if not, add underscores at the end until it is \n",
    "#for each index i in the encoded message, use the character at the index\n",
    "#(i // shift) + (len(message) // shift) * (i % shift) \n",
    "#return encoded message \n",
    "\n",
    "def problem_2(message,shift):\n",
    "    i = 0 \n",
    "    new_message=\"\"\n",
    "    \n",
    "    #adding the underscores\n",
    "   \n",
    "    while len(message)%shift != 0:\n",
    "            message = message+'_'\n",
    "       \n",
    "    for letter in message: \n",
    "        index = (i // shift) + (len(message) // shift) * (i % shift) \n",
    "        new_message = new_message + message[index]\n",
    "        i += 1\n",
    "    \n",
    "    return new_message\n",
    "    \n",
    "\n",
    "problem_2(\"INFORMATION_AGE\",3)\n"
   ]
  },
  {
   "cell_type": "code",
   "execution_count": 62,
   "id": "8317f26b",
   "metadata": {},
   "outputs": [
    {
     "data": {
      "text/plain": [
       "'GINABL HT ETCUQ'"
      ]
     },
     "execution_count": 62,
     "metadata": {},
     "output_type": "execute_result"
    }
   ],
   "source": [
    "#PROBLEM 3: Vigenere Cipher , (message, key)\n",
    "#repeat keyphrase until it matches the len of the msg \n",
    "# convert letters in they key to number values \n",
    "#shift all numbers by the number of the respective letter in the key\n",
    "#spaces count as characters but ignore when applying the cipher \n",
    "\n",
    "\n",
    "def problem_3(message,key): \n",
    "    new_message=\"\"\n",
    "    index=0\n",
    "    \n",
    "    if len(key)%len(message) == 0:\n",
    "        wrapped_text = (key*(len(message)/len(key)))\n",
    "    else: \n",
    "        wrapped_text = (key*(len(message)//len(key)))+key[0:(len(message)%len(key))]\n",
    "\n",
    "    for letter in message:\n",
    "        encoded = problem_1(letter,(ord(wrapped_text[index])-65))\n",
    "        new_message = new_message + encoded\n",
    "        index += 1\n",
    "        \n",
    "        \n",
    "    return new_message\n",
    "    \n",
    "\n",
    "problem_3(\"FOOBAR IS FUBAR\",\"BUZZ\")        "
   ]
  },
  {
   "cell_type": "code",
   "execution_count": 183,
   "id": "673cfbd2",
   "metadata": {},
   "outputs": [
    {
     "data": {
      "text/plain": [
       "'ALGORITHMS_ARE_IMPORTANT'"
      ]
     },
     "execution_count": 183,
     "metadata": {},
     "output_type": "execute_result"
    }
   ],
   "source": [
    "#PROBLEM 4: Scytale De-cipher \n",
    "\n",
    "def problem_4(message,shift):\n",
    "    i = 0 \n",
    "    new_message=\"\"\n",
    "       \n",
    "       \n",
    "    for letter in message: \n",
    "        index = (i // (len(message) // shift)) + (len(message) // (len(message) // shift)) * (i % (len(message) // shift))\n",
    "        new_message = new_message + message[index]\n",
    "        \n",
    "        i += 1\n",
    "    \n",
    "    return new_message\n",
    "\n",
    "problem_4(\"AOTSRIOALRH_EMRNGIMA_PTT\", 8)\n"
   ]
  },
  {
   "cell_type": "code",
   "execution_count": null,
   "id": "f4663a30",
   "metadata": {},
   "outputs": [],
   "source": []
  },
  {
   "cell_type": "code",
   "execution_count": null,
   "id": "52cc7faa",
   "metadata": {},
   "outputs": [],
   "source": [
    "\n"
   ]
  },
  {
   "cell_type": "code",
   "execution_count": null,
   "id": "74991ef1",
   "metadata": {},
   "outputs": [],
   "source": [
    "\n"
   ]
  },
  {
   "cell_type": "code",
   "execution_count": null,
   "id": "e4b3cb8f",
   "metadata": {},
   "outputs": [],
   "source": []
  },
  {
   "cell_type": "code",
   "execution_count": null,
   "id": "1603b7e0",
   "metadata": {},
   "outputs": [],
   "source": []
  },
  {
   "cell_type": "code",
   "execution_count": null,
   "id": "fd20ede3",
   "metadata": {},
   "outputs": [],
   "source": []
  }
 ],
 "metadata": {
  "kernelspec": {
   "display_name": "Python 3",
   "language": "python",
   "name": "python3"
  },
  "language_info": {
   "codemirror_mode": {
    "name": "ipython",
    "version": 3
   },
   "file_extension": ".py",
   "mimetype": "text/x-python",
   "name": "python",
   "nbconvert_exporter": "python",
   "pygments_lexer": "ipython3",
   "version": "3.8.8"
  }
 },
 "nbformat": 4,
 "nbformat_minor": 5
}
